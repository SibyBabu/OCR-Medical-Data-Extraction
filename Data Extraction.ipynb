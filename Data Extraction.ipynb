{
  "nbformat": 4,
  "nbformat_minor": 0,
  "metadata": {
    "colab": {
      "provenance": []
    },
    "kernelspec": {
      "name": "python3",
      "display_name": "Python 3"
    },
    "language_info": {
      "name": "python"
    }
  },
  "cells": [
    {
      "cell_type": "code",
      "source": [
        "pip install pytesseract\n"
      ],
      "metadata": {
        "colab": {
          "base_uri": "https://localhost:8080/"
        },
        "id": "y5pOizou3yjD",
        "outputId": "139e7f69-0bbb-4ef3-8a80-fcbca16c974e"
      },
      "execution_count": 1,
      "outputs": [
        {
          "output_type": "stream",
          "name": "stdout",
          "text": [
            "Collecting pytesseract\n",
            "  Downloading pytesseract-0.3.10-py3-none-any.whl (14 kB)\n",
            "Requirement already satisfied: packaging>=21.3 in /usr/local/lib/python3.10/dist-packages (from pytesseract) (24.0)\n",
            "Requirement already satisfied: Pillow>=8.0.0 in /usr/local/lib/python3.10/dist-packages (from pytesseract) (9.4.0)\n",
            "Installing collected packages: pytesseract\n",
            "Successfully installed pytesseract-0.3.10\n"
          ]
        }
      ]
    },
    {
      "cell_type": "code",
      "source": [
        "!pip install pdf2image\n"
      ],
      "metadata": {
        "colab": {
          "base_uri": "https://localhost:8080/"
        },
        "id": "1nTXCekM5RNU",
        "outputId": "f3761bb2-69ad-44b4-a895-bad40df5ac90"
      },
      "execution_count": 2,
      "outputs": [
        {
          "output_type": "stream",
          "name": "stdout",
          "text": [
            "Collecting pdf2image\n",
            "  Downloading pdf2image-1.17.0-py3-none-any.whl (11 kB)\n",
            "Requirement already satisfied: pillow in /usr/local/lib/python3.10/dist-packages (from pdf2image) (9.4.0)\n",
            "Installing collected packages: pdf2image\n",
            "Successfully installed pdf2image-1.17.0\n"
          ]
        }
      ]
    },
    {
      "cell_type": "code",
      "source": [
        "pip install PyPDF2\n"
      ],
      "metadata": {
        "colab": {
          "base_uri": "https://localhost:8080/"
        },
        "id": "pMyGv0q-4A9h",
        "outputId": "7c727a45-9d5b-45a5-edd6-73890808cbdb"
      },
      "execution_count": 3,
      "outputs": [
        {
          "output_type": "stream",
          "name": "stdout",
          "text": [
            "Collecting PyPDF2\n",
            "  Downloading pypdf2-3.0.1-py3-none-any.whl (232 kB)\n",
            "\u001b[?25l     \u001b[90m━━━━━━━━━━━━━━━━━━━━━━━━━━━━━━━━━━━━━━━━\u001b[0m \u001b[32m0.0/232.6 kB\u001b[0m \u001b[31m?\u001b[0m eta \u001b[36m-:--:--\u001b[0m\r\u001b[2K     \u001b[91m━━━━━━━━━━\u001b[0m\u001b[91m╸\u001b[0m\u001b[90m━━━━━━━━━━━━━━━━━━━━━━━━━━━━━\u001b[0m \u001b[32m61.4/232.6 kB\u001b[0m \u001b[31m1.6 MB/s\u001b[0m eta \u001b[36m0:00:01\u001b[0m\r\u001b[2K     \u001b[90m━━━━━━━━━━━━━━━━━━━━━━━━━━━━━━━━━━━━━━━━\u001b[0m \u001b[32m232.6/232.6 kB\u001b[0m \u001b[31m3.7 MB/s\u001b[0m eta \u001b[36m0:00:00\u001b[0m\n",
            "\u001b[?25hInstalling collected packages: PyPDF2\n",
            "Successfully installed PyPDF2-3.0.1\n"
          ]
        }
      ]
    },
    {
      "cell_type": "code",
      "source": [
        "!apt-get install tesseract-ocr\n"
      ],
      "metadata": {
        "colab": {
          "base_uri": "https://localhost:8080/"
        },
        "id": "C8vlyoNW5-Ds",
        "outputId": "a3f5c5f9-5e2e-4583-fe2f-79e1232ed257"
      },
      "execution_count": 4,
      "outputs": [
        {
          "output_type": "stream",
          "name": "stdout",
          "text": [
            "Reading package lists... Done\n",
            "Building dependency tree... Done\n",
            "Reading state information... Done\n",
            "The following additional packages will be installed:\n",
            "  tesseract-ocr-eng tesseract-ocr-osd\n",
            "The following NEW packages will be installed:\n",
            "  tesseract-ocr tesseract-ocr-eng tesseract-ocr-osd\n",
            "0 upgraded, 3 newly installed, 0 to remove and 39 not upgraded.\n",
            "Need to get 4,816 kB of archives.\n",
            "After this operation, 15.6 MB of additional disk space will be used.\n",
            "Get:1 http://archive.ubuntu.com/ubuntu jammy/universe amd64 tesseract-ocr-eng all 1:4.00~git30-7274cfa-1.1 [1,591 kB]\n",
            "Get:2 http://archive.ubuntu.com/ubuntu jammy/universe amd64 tesseract-ocr-osd all 1:4.00~git30-7274cfa-1.1 [2,990 kB]\n",
            "Get:3 http://archive.ubuntu.com/ubuntu jammy/universe amd64 tesseract-ocr amd64 4.1.1-2.1build1 [236 kB]\n",
            "Fetched 4,816 kB in 3s (1,780 kB/s)\n",
            "Selecting previously unselected package tesseract-ocr-eng.\n",
            "(Reading database ... 121753 files and directories currently installed.)\n",
            "Preparing to unpack .../tesseract-ocr-eng_1%3a4.00~git30-7274cfa-1.1_all.deb ...\n",
            "Unpacking tesseract-ocr-eng (1:4.00~git30-7274cfa-1.1) ...\n",
            "Selecting previously unselected package tesseract-ocr-osd.\n",
            "Preparing to unpack .../tesseract-ocr-osd_1%3a4.00~git30-7274cfa-1.1_all.deb ...\n",
            "Unpacking tesseract-ocr-osd (1:4.00~git30-7274cfa-1.1) ...\n",
            "Selecting previously unselected package tesseract-ocr.\n",
            "Preparing to unpack .../tesseract-ocr_4.1.1-2.1build1_amd64.deb ...\n",
            "Unpacking tesseract-ocr (4.1.1-2.1build1) ...\n",
            "Setting up tesseract-ocr-eng (1:4.00~git30-7274cfa-1.1) ...\n",
            "Setting up tesseract-ocr-osd (1:4.00~git30-7274cfa-1.1) ...\n",
            "Setting up tesseract-ocr (4.1.1-2.1build1) ...\n",
            "Processing triggers for man-db (2.10.2-1) ...\n"
          ]
        }
      ]
    },
    {
      "cell_type": "code",
      "source": [
        "from google.colab import drive\n",
        "\n",
        "# Mount Google Drive\n",
        "drive.mount('/content/drive')\n"
      ],
      "metadata": {
        "colab": {
          "base_uri": "https://localhost:8080/"
        },
        "id": "z0F3y1qV4i8e",
        "outputId": "2788c7b2-5427-44da-b902-1301d1a404cd"
      },
      "execution_count": 5,
      "outputs": [
        {
          "output_type": "stream",
          "name": "stdout",
          "text": [
            "Mounted at /content/drive\n"
          ]
        }
      ]
    },
    {
      "cell_type": "code",
      "source": [
        "!apt-get install poppler-utils"
      ],
      "metadata": {
        "colab": {
          "base_uri": "https://localhost:8080/"
        },
        "id": "dgGqRa8W5gXR",
        "outputId": "e91fa08b-2c68-476d-b581-26d4a8b72f31"
      },
      "execution_count": 6,
      "outputs": [
        {
          "output_type": "stream",
          "name": "stdout",
          "text": [
            "Reading package lists... Done\n",
            "Building dependency tree... Done\n",
            "Reading state information... Done\n",
            "The following NEW packages will be installed:\n",
            "  poppler-utils\n",
            "0 upgraded, 1 newly installed, 0 to remove and 39 not upgraded.\n",
            "Need to get 186 kB of archives.\n",
            "After this operation, 696 kB of additional disk space will be used.\n",
            "Get:1 http://archive.ubuntu.com/ubuntu jammy-updates/main amd64 poppler-utils amd64 22.02.0-2ubuntu0.3 [186 kB]\n",
            "Fetched 186 kB in 1s (154 kB/s)\n",
            "Selecting previously unselected package poppler-utils.\n",
            "(Reading database ... 121800 files and directories currently installed.)\n",
            "Preparing to unpack .../poppler-utils_22.02.0-2ubuntu0.3_amd64.deb ...\n",
            "Unpacking poppler-utils (22.02.0-2ubuntu0.3) ...\n",
            "Setting up poppler-utils (22.02.0-2ubuntu0.3) ...\n",
            "Processing triggers for man-db (2.10.2-1) ...\n"
          ]
        }
      ]
    },
    {
      "cell_type": "code",
      "source": [
        "import cv2\n",
        "import pytesseract\n",
        "from pdf2image import convert_from_path\n",
        "import tempfile\n",
        "import os\n",
        "import numpy as np\n",
        "\n",
        "def pdf_to_images(pdf_path):\n",
        "    images = convert_from_path(pdf_path)\n",
        "    return images\n",
        "\n",
        "def extract_text_from_images(images):\n",
        "    extracted_text = []\n",
        "    for i, image in enumerate(images):\n",
        "        # Convert PIL image to numpy array\n",
        "        img_array = cv2.cvtColor(np.array(image), cv2.COLOR_RGB2BGR)\n",
        "\n",
        "        # Convert to grayscale\n",
        "        gray = cv2.cvtColor(img_array, cv2.COLOR_BGR2GRAY)\n",
        "        resized_image = cv2.resize(gray,None,fx=1.5,fy =1.5,interpolation=cv2.INTER_LINEAR)\n",
        "        processed_image =cv2.adaptiveThreshold(\n",
        "        resized_image,255,\n",
        "        cv2.ADAPTIVE_THRESH_GAUSSIAN_C,\n",
        "        cv2.THRESH_BINARY,63,13)\n",
        "\n",
        "        # Use pytesseract to do OCR on the image\n",
        "        text = pytesseract.image_to_string(processed_image)\n",
        "\n",
        "        # Append the extracted text to the list\n",
        "        extracted_text.append(text)\n",
        "\n",
        "    return extracted_text\n",
        "\n",
        "def main(pdf_path):\n",
        "    # Convert PDF to images\n",
        "    images = pdf_to_images(pdf_path)\n",
        "\n",
        "    # Extract text from images\n",
        "    extracted_text = extract_text_from_images(images)\n",
        "\n",
        "    # Print extracted text\n",
        "    for i, text in enumerate(extracted_text):\n",
        "        print(f\"Page {i+1}:\\n{text}\\n\")\n",
        "\n",
        "if __name__ == \"__main__\":\n",
        "    pdf_path = \"/content/pre_1.pdf\"\n",
        "    main(pdf_path)\n"
      ],
      "metadata": {
        "colab": {
          "base_uri": "https://localhost:8080/"
        },
        "id": "wsvrj0_85WsK",
        "outputId": "d0268cc4-a80a-4671-cafb-8aa83df14dfa"
      },
      "execution_count": 8,
      "outputs": [
        {
          "output_type": "stream",
          "name": "stdout",
          "text": [
            "Page 1:\n",
            "Dr John Smith, M.D\n",
            "2 Non-Important Street,\n",
            "New York, Phone (000)-111-2222\n",
            "\n",
            "Name: Marta Sharapova Date: 5/11/2022\n",
            "\n",
            "Address: 9 tennis court, new Russia, DC\n",
            "\n",
            "K\n",
            "\n",
            " \n",
            "\n",
            "Prednisone 20 mg\n",
            "Lialda 2.4 gram\n",
            "\n",
            "Directions:\n",
            "\n",
            "Prednisone, Taper 5 mg every 3 days,\n",
            "Finish in 2.5 weeks |\n",
            "Lialda - take 2 pill everyday for 1 month\n",
            "\n",
            "Refill: 2. times\n",
            "\f\n",
            "\n"
          ]
        }
      ]
    },
    {
      "cell_type": "code",
      "source": [
        "import cv2\n",
        "import pytesseract\n",
        "from pdf2image import convert_from_path\n",
        "import tempfile\n",
        "import os\n",
        "import numpy as np\n",
        "import pickle\n",
        "\n",
        "def pdf_to_images(pdf_path):\n",
        "    images = convert_from_path(pdf_path)\n",
        "    return images\n",
        "\n",
        "def extract_text_from_images(images):\n",
        "    extracted_text = []\n",
        "    for i, image in enumerate(images):\n",
        "        # Convert PIL image to numpy array\n",
        "        img_array = cv2.cvtColor(np.array(image), cv2.COLOR_RGB2BGR)\n",
        "\n",
        "        # Convert to grayscale\n",
        "        gray = cv2.cvtColor(img_array, cv2.COLOR_BGR2GRAY)\n",
        "        resized_image = cv2.resize(gray,None,fx=1.5,fy=1.5,interpolation=cv2.INTER_LINEAR)\n",
        "        processed_image = cv2.adaptiveThreshold(\n",
        "            resized_image,255,\n",
        "            cv2.ADAPTIVE_THRESH_GAUSSIAN_C,\n",
        "            cv2.THRESH_BINARY,63,13)\n",
        "\n",
        "        # Use pytesseract to do OCR on the image\n",
        "        text = pytesseract.image_to_string(processed_image)\n",
        "\n",
        "        # Append the extracted text to the list\n",
        "        extracted_text.append(text)\n",
        "\n",
        "    return extracted_text\n",
        "\n",
        "def main(pdf_path, pickle_path):\n",
        "    # Convert PDF to images\n",
        "    images = pdf_to_images(pdf_path)\n",
        "\n",
        "    # Extract text from images\n",
        "    extracted_text = extract_text_from_images(images)\n",
        "\n",
        "    # Save extracted text data to a pickle file\n",
        "    with open(pickle_path, 'wb') as f:\n",
        "        pickle.dump(extracted_text, f)\n",
        "\n",
        "    print(\"Extracted text saved to\", pickle_path)\n",
        "\n",
        "if __name__ == \"__main__\":\n",
        "    pdf_path = \"/content/pre_1.pdf\"\n",
        "    pickle_path = \"/content/extracted_text.pkl\"\n",
        "    main(pdf_path, pickle_path)\n"
      ],
      "metadata": {
        "colab": {
          "base_uri": "https://localhost:8080/"
        },
        "id": "cwB6xrEFCndP",
        "outputId": "69115bf7-c8cf-4912-9f1d-986b8d63ad35"
      },
      "execution_count": 9,
      "outputs": [
        {
          "output_type": "stream",
          "name": "stdout",
          "text": [
            "Extracted text saved to /content/extracted_text.pkl\n"
          ]
        }
      ]
    },
    {
      "cell_type": "code",
      "source": [
        "import re"
      ],
      "metadata": {
        "id": "ldLwzJItS4mN"
      },
      "execution_count": 10,
      "outputs": []
    },
    {
      "cell_type": "code",
      "source": [
        "text = '''Dr John Smith, M.D\n",
        "2 Non-Important Street,\n",
        "New York, Phone (000)-111-2222\n",
        "\n",
        "Name: Marta Sharapova Date: 5/11/2022\n",
        "\n",
        "Address: 9 tennis court, new Russia, DC\n",
        "\n",
        "\n",
        "Prednisone 20 mg\n",
        "Lialda 2.4 gram\n",
        "\n",
        "Directions:\n",
        "\n",
        "Prednisone, Taper 5 mg every 3 days,\n",
        "Finish in 2.5 weeks a\n",
        "Lialda - take 2 pill everyday for 1 month\n",
        "\n",
        "Refill: 2 times\n",
        "'''"
      ],
      "metadata": {
        "id": "-fCfpUKgS9fM"
      },
      "execution_count": 11,
      "outputs": []
    },
    {
      "cell_type": "code",
      "source": [
        "pattern = \"Name:(.*)Date\"\n",
        "match = re.findall(pattern,text)\n",
        "match[0].strip()"
      ],
      "metadata": {
        "colab": {
          "base_uri": "https://localhost:8080/",
          "height": 36
        },
        "id": "EFXHSOr6TRVt",
        "outputId": "fb425ee3-51ca-4877-95d8-a2c2bf82c3e9"
      },
      "execution_count": 12,
      "outputs": [
        {
          "output_type": "execute_result",
          "data": {
            "text/plain": [
              "'Marta Sharapova'"
            ],
            "application/vnd.google.colaboratory.intrinsic+json": {
              "type": "string"
            }
          },
          "metadata": {},
          "execution_count": 12
        }
      ]
    },
    {
      "cell_type": "code",
      "source": [
        "pattern = \"Address:(.*)\\n\"\n",
        "match = re.findall(pattern,text)\n",
        "match[0].strip()"
      ],
      "metadata": {
        "colab": {
          "base_uri": "https://localhost:8080/",
          "height": 36
        },
        "id": "6tTtTqpSTUsR",
        "outputId": "31c380f0-6e30-490e-b7dd-5ccfef887b88"
      },
      "execution_count": 13,
      "outputs": [
        {
          "output_type": "execute_result",
          "data": {
            "text/plain": [
              "'9 tennis court, new Russia, DC'"
            ],
            "application/vnd.google.colaboratory.intrinsic+json": {
              "type": "string"
            }
          },
          "metadata": {},
          "execution_count": 13
        }
      ]
    },
    {
      "cell_type": "code",
      "source": [
        "pattern = \"Address[^\\n]*(.*)Directions\"\n",
        "match = re.findall(pattern,text,flags = re.DOTALL)\n",
        "print(match[0].strip())"
      ],
      "metadata": {
        "colab": {
          "base_uri": "https://localhost:8080/"
        },
        "id": "8nnJzO80TW9_",
        "outputId": "324d15a1-dde5-4a3b-804f-e27870d392e0"
      },
      "execution_count": 14,
      "outputs": [
        {
          "output_type": "stream",
          "name": "stdout",
          "text": [
            "Prednisone 20 mg\n",
            "Lialda 2.4 gram\n"
          ]
        }
      ]
    },
    {
      "cell_type": "code",
      "source": [],
      "metadata": {
        "id": "Uo7srN08Taf1"
      },
      "execution_count": null,
      "outputs": []
    }
  ]
}